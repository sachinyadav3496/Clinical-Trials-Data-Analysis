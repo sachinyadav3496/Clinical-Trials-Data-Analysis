{
 "cells": [
  {
   "cell_type": "code",
   "execution_count": 1,
   "id": "0b3f087a",
   "metadata": {},
   "outputs": [
    {
     "name": "stdout",
     "output_type": "stream",
     "text": [
      " Volume in drive C is Local Disk\n",
      " Volume Serial Number is 18D4-940E\n",
      "\n",
      " Directory of C:\\Users\\Sachin\\Downloads\\BDDT SALFORD\n",
      "\n",
      "19-04-2022  20:14        42,400,056 clinicaltrial_2019.csv\n",
      "19-04-2022  20:14        46,318,151 clinicaltrial_2020.csv\n",
      "27-11-2021  20:14        50,359,696 clinicaltrial_2021.csv\n",
      "08-04-2022  08:40         5,295,548 mesh.csv\n",
      "08-04-2022  08:40           678,999 pharma.csv\n",
      "               5 File(s)    145,052,450 bytes\n",
      "               0 Dir(s)  111,518,629,888 bytes free\n"
     ]
    }
   ],
   "source": [
    "!dir *.csv"
   ]
  },
  {
   "cell_type": "code",
   "execution_count": 1,
   "id": "f15e6438",
   "metadata": {},
   "outputs": [],
   "source": [
    "import pandas as pd"
   ]
  },
  {
   "cell_type": "code",
   "execution_count": 2,
   "id": "b50b2425",
   "metadata": {},
   "outputs": [],
   "source": [
    "clinic = pd.read_csv('clinicaltrial_2021.csv', sep='|')\n",
    "mesh = pd.read_csv('mesh.csv')\n",
    "pharma = pd.read_csv('pharma.csv')"
   ]
  },
  {
   "cell_type": "code",
   "execution_count": 3,
   "id": "3be743ae",
   "metadata": {},
   "outputs": [],
   "source": [
    "clinic = pd.read_csv('clinicaltrial_2020.csv', sep='|')\n",
    "mesh = pd.read_csv('mesh.csv')\n",
    "pharma = pd.read_csv('pharma.csv')"
   ]
  },
  {
   "cell_type": "code",
   "execution_count": null,
   "id": "36fbad68",
   "metadata": {},
   "outputs": [],
   "source": []
  },
  {
   "cell_type": "code",
   "execution_count": 4,
   "id": "6be49c69",
   "metadata": {},
   "outputs": [
    {
     "data": {
      "text/html": [
       "<div>\n",
       "<style scoped>\n",
       "    .dataframe tbody tr th:only-of-type {\n",
       "        vertical-align: middle;\n",
       "    }\n",
       "\n",
       "    .dataframe tbody tr th {\n",
       "        vertical-align: top;\n",
       "    }\n",
       "\n",
       "    .dataframe thead th {\n",
       "        text-align: right;\n",
       "    }\n",
       "</style>\n",
       "<table border=\"1\" class=\"dataframe\">\n",
       "  <thead>\n",
       "    <tr style=\"text-align: right;\">\n",
       "      <th></th>\n",
       "      <th>Id</th>\n",
       "      <th>Sponsor</th>\n",
       "      <th>Status</th>\n",
       "      <th>Start</th>\n",
       "      <th>Completion</th>\n",
       "      <th>Type</th>\n",
       "      <th>Submission</th>\n",
       "      <th>Conditions</th>\n",
       "      <th>Interventions</th>\n",
       "    </tr>\n",
       "  </thead>\n",
       "  <tbody>\n",
       "    <tr>\n",
       "      <th>0</th>\n",
       "      <td>NCT02758028</td>\n",
       "      <td>The University of Hong Kong</td>\n",
       "      <td>Recruiting</td>\n",
       "      <td>Aug 2005</td>\n",
       "      <td>Nov 2021</td>\n",
       "      <td>Interventional</td>\n",
       "      <td>Apr 2016</td>\n",
       "      <td>NaN</td>\n",
       "      <td>NaN</td>\n",
       "    </tr>\n",
       "    <tr>\n",
       "      <th>1</th>\n",
       "      <td>NCT02751957</td>\n",
       "      <td>Duke University</td>\n",
       "      <td>Completed</td>\n",
       "      <td>Jul 2016</td>\n",
       "      <td>Jul 2020</td>\n",
       "      <td>Interventional</td>\n",
       "      <td>Apr 2016</td>\n",
       "      <td>Autistic Disorder,Autism Spectrum Disorder</td>\n",
       "      <td>NaN</td>\n",
       "    </tr>\n",
       "  </tbody>\n",
       "</table>\n",
       "</div>"
      ],
      "text/plain": [
       "            Id                      Sponsor      Status     Start Completion  \\\n",
       "0  NCT02758028  The University of Hong Kong  Recruiting  Aug 2005   Nov 2021   \n",
       "1  NCT02751957              Duke University   Completed  Jul 2016   Jul 2020   \n",
       "\n",
       "             Type Submission                                  Conditions  \\\n",
       "0  Interventional   Apr 2016                                         NaN   \n",
       "1  Interventional   Apr 2016  Autistic Disorder,Autism Spectrum Disorder   \n",
       "\n",
       "  Interventions  \n",
       "0           NaN  \n",
       "1           NaN  "
      ]
     },
     "execution_count": 4,
     "metadata": {},
     "output_type": "execute_result"
    }
   ],
   "source": [
    "clinic.head(2)"
   ]
  },
  {
   "cell_type": "code",
   "execution_count": 5,
   "id": "df3901b2",
   "metadata": {},
   "outputs": [
    {
     "data": {
      "text/html": [
       "<div>\n",
       "<style scoped>\n",
       "    .dataframe tbody tr th:only-of-type {\n",
       "        vertical-align: middle;\n",
       "    }\n",
       "\n",
       "    .dataframe tbody tr th {\n",
       "        vertical-align: top;\n",
       "    }\n",
       "\n",
       "    .dataframe thead th {\n",
       "        text-align: right;\n",
       "    }\n",
       "</style>\n",
       "<table border=\"1\" class=\"dataframe\">\n",
       "  <thead>\n",
       "    <tr style=\"text-align: right;\">\n",
       "      <th></th>\n",
       "      <th>term</th>\n",
       "      <th>tree</th>\n",
       "    </tr>\n",
       "  </thead>\n",
       "  <tbody>\n",
       "    <tr>\n",
       "      <th>0</th>\n",
       "      <td>Calcimycin</td>\n",
       "      <td>D03.633.100.221.173</td>\n",
       "    </tr>\n",
       "    <tr>\n",
       "      <th>1</th>\n",
       "      <td>A-23187</td>\n",
       "      <td>D03.633.100.221.173</td>\n",
       "    </tr>\n",
       "  </tbody>\n",
       "</table>\n",
       "</div>"
      ],
      "text/plain": [
       "         term                 tree\n",
       "0  Calcimycin  D03.633.100.221.173\n",
       "1     A-23187  D03.633.100.221.173"
      ]
     },
     "execution_count": 5,
     "metadata": {},
     "output_type": "execute_result"
    }
   ],
   "source": [
    "mesh.head(2)"
   ]
  },
  {
   "cell_type": "code",
   "execution_count": 6,
   "id": "744e715c",
   "metadata": {},
   "outputs": [
    {
     "data": {
      "text/html": [
       "<div>\n",
       "<style scoped>\n",
       "    .dataframe tbody tr th:only-of-type {\n",
       "        vertical-align: middle;\n",
       "    }\n",
       "\n",
       "    .dataframe tbody tr th {\n",
       "        vertical-align: top;\n",
       "    }\n",
       "\n",
       "    .dataframe thead th {\n",
       "        text-align: right;\n",
       "    }\n",
       "</style>\n",
       "<table border=\"1\" class=\"dataframe\">\n",
       "  <thead>\n",
       "    <tr style=\"text-align: right;\">\n",
       "      <th></th>\n",
       "      <th>Company</th>\n",
       "      <th>Parent_Company</th>\n",
       "      <th>Penalty_Amount</th>\n",
       "      <th>Subtraction_From_Penalty</th>\n",
       "      <th>Penalty_Amount_Adjusted_For_Eliminating_Multiple_Counting</th>\n",
       "      <th>Penalty_Year</th>\n",
       "      <th>Penalty_Date</th>\n",
       "      <th>Offense_Group</th>\n",
       "      <th>Primary_Offense</th>\n",
       "      <th>Secondary_Offense</th>\n",
       "      <th>...</th>\n",
       "      <th>NAICS_Code</th>\n",
       "      <th>NAICS_Translation</th>\n",
       "      <th>HQ_Country_of_Parent</th>\n",
       "      <th>HQ_State_of_Parent</th>\n",
       "      <th>Ownership_Structure</th>\n",
       "      <th>Parent_Company_Stock_Ticker</th>\n",
       "      <th>Major_Industry_of_Parent</th>\n",
       "      <th>Specific_Industry_of_Parent</th>\n",
       "      <th>Info_Source</th>\n",
       "      <th>Notes</th>\n",
       "    </tr>\n",
       "  </thead>\n",
       "  <tbody>\n",
       "    <tr>\n",
       "      <th>0</th>\n",
       "      <td>Abbott Laboratories</td>\n",
       "      <td>Abbott Laboratories</td>\n",
       "      <td>$5,475,000</td>\n",
       "      <td>$0</td>\n",
       "      <td>$5,475,000</td>\n",
       "      <td>2013</td>\n",
       "      <td>20131227</td>\n",
       "      <td>government-contracting-related offenses</td>\n",
       "      <td>False Claims Act and related</td>\n",
       "      <td>kickbacks and bribery</td>\n",
       "      <td>...</td>\n",
       "      <td>NaN</td>\n",
       "      <td>NaN</td>\n",
       "      <td>USA</td>\n",
       "      <td>Illinois</td>\n",
       "      <td>publicly traded</td>\n",
       "      <td>ABT</td>\n",
       "      <td>pharmaceuticals</td>\n",
       "      <td>pharmaceuticals</td>\n",
       "      <td>https://www.justice.gov/opa/pr/abbott-laborato...</td>\n",
       "      <td>NaN</td>\n",
       "    </tr>\n",
       "    <tr>\n",
       "      <th>1</th>\n",
       "      <td>Abbott Laboratories Inc.</td>\n",
       "      <td>AbbVie</td>\n",
       "      <td>$1,500,000,000</td>\n",
       "      <td>$0</td>\n",
       "      <td>$1,500,000,000</td>\n",
       "      <td>2012</td>\n",
       "      <td>20120507</td>\n",
       "      <td>healthcare-related offenses</td>\n",
       "      <td>off-label or unapproved promotion of medical p...</td>\n",
       "      <td>NaN</td>\n",
       "      <td>...</td>\n",
       "      <td>NaN</td>\n",
       "      <td>NaN</td>\n",
       "      <td>USA</td>\n",
       "      <td>Illinois</td>\n",
       "      <td>publicly traded</td>\n",
       "      <td>ABBV</td>\n",
       "      <td>pharmaceuticals</td>\n",
       "      <td>pharmaceuticals</td>\n",
       "      <td>http://www.justice.gov/opa/pr/abbott-labs-pay-...</td>\n",
       "      <td>NaN</td>\n",
       "    </tr>\n",
       "  </tbody>\n",
       "</table>\n",
       "<p>2 rows × 34 columns</p>\n",
       "</div>"
      ],
      "text/plain": [
       "                    Company       Parent_Company  Penalty_Amount  \\\n",
       "0       Abbott Laboratories  Abbott Laboratories      $5,475,000   \n",
       "1  Abbott Laboratories Inc.               AbbVie  $1,500,000,000   \n",
       "\n",
       "  Subtraction_From_Penalty  \\\n",
       "0                       $0   \n",
       "1                       $0   \n",
       "\n",
       "  Penalty_Amount_Adjusted_For_Eliminating_Multiple_Counting  Penalty_Year  \\\n",
       "0                                         $5,475,000                 2013   \n",
       "1                                     $1,500,000,000                 2012   \n",
       "\n",
       "   Penalty_Date                            Offense_Group  \\\n",
       "0      20131227  government-contracting-related offenses   \n",
       "1      20120507              healthcare-related offenses   \n",
       "\n",
       "                                     Primary_Offense      Secondary_Offense  \\\n",
       "0                       False Claims Act and related  kickbacks and bribery   \n",
       "1  off-label or unapproved promotion of medical p...                    NaN   \n",
       "\n",
       "   ... NAICS_Code NAICS_Translation HQ_Country_of_Parent HQ_State_of_Parent  \\\n",
       "0  ...        NaN               NaN                  USA           Illinois   \n",
       "1  ...        NaN               NaN                  USA           Illinois   \n",
       "\n",
       "  Ownership_Structure Parent_Company_Stock_Ticker Major_Industry_of_Parent  \\\n",
       "0     publicly traded                         ABT          pharmaceuticals   \n",
       "1     publicly traded                        ABBV          pharmaceuticals   \n",
       "\n",
       "  Specific_Industry_of_Parent  \\\n",
       "0             pharmaceuticals   \n",
       "1             pharmaceuticals   \n",
       "\n",
       "                                         Info_Source Notes  \n",
       "0  https://www.justice.gov/opa/pr/abbott-laborato...   NaN  \n",
       "1  http://www.justice.gov/opa/pr/abbott-labs-pay-...   NaN  \n",
       "\n",
       "[2 rows x 34 columns]"
      ]
     },
     "execution_count": 6,
     "metadata": {},
     "output_type": "execute_result"
    }
   ],
   "source": [
    "pharma.head(2)"
   ]
  },
  {
   "cell_type": "code",
   "execution_count": 7,
   "id": "389c3614",
   "metadata": {},
   "outputs": [
    {
     "data": {
      "text/plain": [
       "Index(['Id', 'Sponsor', 'Status', 'Start', 'Completion', 'Type', 'Submission',\n",
       "       'Conditions', 'Interventions'],\n",
       "      dtype='object')"
      ]
     },
     "execution_count": 7,
     "metadata": {},
     "output_type": "execute_result"
    }
   ],
   "source": [
    "clinic.columns"
   ]
  },
  {
   "cell_type": "code",
   "execution_count": 8,
   "id": "a14d165b",
   "metadata": {},
   "outputs": [
    {
     "data": {
      "text/plain": [
       "Index(['Company', 'Parent_Company', 'Penalty_Amount',\n",
       "       'Subtraction_From_Penalty',\n",
       "       'Penalty_Amount_Adjusted_For_Eliminating_Multiple_Counting',\n",
       "       'Penalty_Year', 'Penalty_Date', 'Offense_Group', 'Primary_Offense',\n",
       "       'Secondary_Offense', 'Description', 'Level_of_Government',\n",
       "       'Action_Type', 'Agency', 'Civil/Criminal', 'Prosecution_Agreement',\n",
       "       'Court', 'Case_ID', 'Private_Litigation_Case_Title',\n",
       "       'Lawsuit_Resolution', 'Facility_State', 'City', 'Address', 'Zip',\n",
       "       'NAICS_Code', 'NAICS_Translation', 'HQ_Country_of_Parent',\n",
       "       'HQ_State_of_Parent', 'Ownership_Structure',\n",
       "       'Parent_Company_Stock_Ticker', 'Major_Industry_of_Parent',\n",
       "       'Specific_Industry_of_Parent', 'Info_Source', 'Notes'],\n",
       "      dtype='object')"
      ]
     },
     "execution_count": 8,
     "metadata": {},
     "output_type": "execute_result"
    }
   ],
   "source": [
    "pharma.columns"
   ]
  },
  {
   "cell_type": "code",
   "execution_count": 9,
   "id": "6f484326",
   "metadata": {},
   "outputs": [
    {
     "data": {
      "text/plain": [
       "Index(['term', 'tree'], dtype='object')"
      ]
     },
     "execution_count": 9,
     "metadata": {},
     "output_type": "execute_result"
    }
   ],
   "source": [
    "mesh.columns"
   ]
  },
  {
   "cell_type": "code",
   "execution_count": 10,
   "id": "e4b92d15",
   "metadata": {},
   "outputs": [
    {
     "data": {
      "text/plain": [
       "Index(['Id', 'Sponsor', 'Status', 'Start', 'Completion', 'Type', 'Submission',\n",
       "       'Conditions', 'Interventions'],\n",
       "      dtype='object')"
      ]
     },
     "execution_count": 10,
     "metadata": {},
     "output_type": "execute_result"
    }
   ],
   "source": [
    "clinic.columns"
   ]
  },
  {
   "cell_type": "code",
   "execution_count": 11,
   "id": "96d11382",
   "metadata": {},
   "outputs": [
    {
     "data": {
      "text/plain": [
       "(356466, 9)"
      ]
     },
     "execution_count": 11,
     "metadata": {},
     "output_type": "execute_result"
    }
   ],
   "source": [
    "clinic.shape"
   ]
  },
  {
   "cell_type": "markdown",
   "id": "2e674d0b",
   "metadata": {},
   "source": [
    "## Question 1\n",
    "    \n",
    "    done"
   ]
  },
  {
   "cell_type": "code",
   "execution_count": 12,
   "id": "5e18583a",
   "metadata": {},
   "outputs": [
    {
     "data": {
      "text/plain": [
       "356466"
      ]
     },
     "execution_count": 12,
     "metadata": {},
     "output_type": "execute_result"
    }
   ],
   "source": [
    "clinic['Id'].unique().shape[0]"
   ]
  },
  {
   "cell_type": "markdown",
   "id": "8f8fae73",
   "metadata": {},
   "source": [
    "# Question 2\n",
    " \n",
    "     done"
   ]
  },
  {
   "cell_type": "code",
   "execution_count": 13,
   "id": "a100279f",
   "metadata": {},
   "outputs": [
    {
     "data": {
      "text/plain": [
       "Type\n",
       "Interventional                      277631\n",
       "Observational                        71434\n",
       "Observational [Patient Registry]      7332\n",
       "Expanded Access                         69\n",
       "Name: Id, dtype: int64"
      ]
     },
     "execution_count": 13,
     "metadata": {},
     "output_type": "execute_result"
    }
   ],
   "source": [
    "clinic.groupby('Type')[\"Id\"].count().sort_values(ascending=False)"
   ]
  },
  {
   "cell_type": "code",
   "execution_count": 14,
   "id": "c7de5536",
   "metadata": {},
   "outputs": [
    {
     "data": {
      "text/plain": [
       "(172, 9)"
      ]
     },
     "execution_count": 14,
     "metadata": {},
     "output_type": "execute_result"
    }
   ],
   "source": [
    "clinic[clinic['Conditions']==\"Syndrome\"].shape"
   ]
  },
  {
   "cell_type": "code",
   "execution_count": 15,
   "id": "3640781a",
   "metadata": {},
   "outputs": [
    {
     "data": {
      "text/plain": [
       "(3435, 9)"
      ]
     },
     "execution_count": 15,
     "metadata": {},
     "output_type": "execute_result"
    }
   ],
   "source": [
    "clinic[clinic['Conditions'].str.lower().str.strip() == \"carcinoma\"].shape"
   ]
  },
  {
   "cell_type": "markdown",
   "id": "edee694a",
   "metadata": {},
   "source": [
    "### Question 3 \n",
    "    \n",
    "    done"
   ]
  },
  {
   "cell_type": "code",
   "execution_count": 16,
   "id": "bde2ff1b",
   "metadata": {},
   "outputs": [],
   "source": [
    "cond = clinic['Conditions'].str.split(',')"
   ]
  },
  {
   "cell_type": "code",
   "execution_count": 17,
   "id": "f32885e5",
   "metadata": {},
   "outputs": [],
   "source": [
    "import numpy as np"
   ]
  },
  {
   "cell_type": "code",
   "execution_count": 18,
   "id": "522c7ed3",
   "metadata": {},
   "outputs": [],
   "source": [
    "v = []\n",
    "for value in cond.values:\n",
    "    if value is not np.nan:\n",
    "        v.extend(value)"
   ]
  },
  {
   "cell_type": "code",
   "execution_count": 19,
   "id": "404ff143",
   "metadata": {},
   "outputs": [
    {
     "data": {
      "text/plain": [
       "float"
      ]
     },
     "execution_count": 19,
     "metadata": {},
     "output_type": "execute_result"
    }
   ],
   "source": [
    "type(np.nan)"
   ]
  },
  {
   "cell_type": "code",
   "execution_count": 20,
   "id": "a6df05b8",
   "metadata": {},
   "outputs": [
    {
     "data": {
      "text/plain": [
       "False"
      ]
     },
     "execution_count": 20,
     "metadata": {},
     "output_type": "execute_result"
    }
   ],
   "source": [
    "value is np.nan"
   ]
  },
  {
   "cell_type": "code",
   "execution_count": 21,
   "id": "a5b7ad02",
   "metadata": {},
   "outputs": [],
   "source": [
    "s = pd.Series(v)"
   ]
  },
  {
   "cell_type": "code",
   "execution_count": 22,
   "id": "a8e30833",
   "metadata": {},
   "outputs": [
    {
     "data": {
      "text/plain": [
       "Carcinoma            12245\n",
       "Diabetes Mellitus    10425\n",
       "Neoplasms             8534\n",
       "Breast Neoplasms      8009\n",
       "Syndrome              7419\n",
       "dtype: int64"
      ]
     },
     "execution_count": 22,
     "metadata": {},
     "output_type": "execute_result"
    }
   ],
   "source": [
    "s.value_counts().head(5)"
   ]
  },
  {
   "cell_type": "markdown",
   "id": "c97dcdf5",
   "metadata": {},
   "source": [
    "# Question 4\n",
    "\n",
    "    not done"
   ]
  },
  {
   "cell_type": "code",
   "execution_count": 28,
   "id": "7b79e0ef",
   "metadata": {},
   "outputs": [
    {
     "data": {
      "text/html": [
       "<div>\n",
       "<style scoped>\n",
       "    .dataframe tbody tr th:only-of-type {\n",
       "        vertical-align: middle;\n",
       "    }\n",
       "\n",
       "    .dataframe tbody tr th {\n",
       "        vertical-align: top;\n",
       "    }\n",
       "\n",
       "    .dataframe thead th {\n",
       "        text-align: right;\n",
       "    }\n",
       "</style>\n",
       "<table border=\"1\" class=\"dataframe\">\n",
       "  <thead>\n",
       "    <tr style=\"text-align: right;\">\n",
       "      <th></th>\n",
       "      <th>term</th>\n",
       "      <th>code</th>\n",
       "    </tr>\n",
       "  </thead>\n",
       "  <tbody>\n",
       "    <tr>\n",
       "      <th>0</th>\n",
       "      <td>Calcimycin</td>\n",
       "      <td>D03</td>\n",
       "    </tr>\n",
       "    <tr>\n",
       "      <th>1</th>\n",
       "      <td>A-23187</td>\n",
       "      <td>D03</td>\n",
       "    </tr>\n",
       "    <tr>\n",
       "      <th>2</th>\n",
       "      <td>Temefos</td>\n",
       "      <td>D02</td>\n",
       "    </tr>\n",
       "    <tr>\n",
       "      <th>3</th>\n",
       "      <td>Temefos</td>\n",
       "      <td>D02</td>\n",
       "    </tr>\n",
       "    <tr>\n",
       "      <th>4</th>\n",
       "      <td>Temefos</td>\n",
       "      <td>D02</td>\n",
       "    </tr>\n",
       "  </tbody>\n",
       "</table>\n",
       "</div>"
      ],
      "text/plain": [
       "         term code\n",
       "0  Calcimycin  D03\n",
       "1     A-23187  D03\n",
       "2     Temefos  D02\n",
       "3     Temefos  D02\n",
       "4     Temefos  D02"
      ]
     },
     "execution_count": 28,
     "metadata": {},
     "output_type": "execute_result"
    }
   ],
   "source": [
    "new = mesh[['term', 'code']]\n",
    "new.head()"
   ]
  },
  {
   "cell_type": "code",
   "execution_count": 29,
   "id": "442e144c",
   "metadata": {},
   "outputs": [],
   "source": [
    "new.set_index('term', inplace=True)"
   ]
  },
  {
   "cell_type": "code",
   "execution_count": 37,
   "id": "fec7c20e",
   "metadata": {},
   "outputs": [],
   "source": [
    "m = []\n",
    "for value in clinic['Conditions']:\n",
    "    if value is not np.nan:\n",
    "        for key in value.split(','):\n",
    "            if key in new.index:\n",
    "                m.append(new.loc[key, \"code\"])\n",
    "            "
   ]
  },
  {
   "cell_type": "code",
   "execution_count": 50,
   "id": "71597a4e",
   "metadata": {},
   "outputs": [],
   "source": [
    "k = []\n",
    "for item in m:\n",
    "    if type(item) == pd.core.series.Series:\n",
    "        for x in item.values:\n",
    "            k.append(x)\n",
    "    else:\n",
    "        k.append(item)"
   ]
  },
  {
   "cell_type": "code",
   "execution_count": 51,
   "id": "c57c262d",
   "metadata": {},
   "outputs": [],
   "source": [
    "s = pd.Series(k)"
   ]
  },
  {
   "cell_type": "code",
   "execution_count": 53,
   "id": "e8977755",
   "metadata": {},
   "outputs": [
    {
     "data": {
      "text/plain": [
       "C04    133091\n",
       "C23    124589\n",
       "C01     94293\n",
       "C14     88065\n",
       "C10     83894\n",
       "dtype: int64"
      ]
     },
     "execution_count": 53,
     "metadata": {},
     "output_type": "execute_result"
    }
   ],
   "source": [
    "s.value_counts().head()"
   ]
  },
  {
   "cell_type": "markdown",
   "id": "379d6351",
   "metadata": {},
   "source": [
    "## Question 5 \n",
    "\n",
    "    done"
   ]
  },
  {
   "cell_type": "code",
   "execution_count": 61,
   "id": "ee5d08af",
   "metadata": {},
   "outputs": [
    {
     "data": {
      "text/plain": [
       "National Cancer Institute (NCI)            3100\n",
       "M.D. Anderson Cancer Center                2238\n",
       "Merck Sharp & Dohme Corp.                  2184\n",
       "Mayo Clinic                                2097\n",
       "Assistance Publique - Hôpitaux de Paris    2043\n",
       "Novartis Pharmaceuticals                   1962\n",
       "Massachusetts General Hospital             1823\n",
       "Assiut University                          1806\n",
       "Hoffmann-La Roche                          1761\n",
       "National Taiwan University Hospital        1720\n",
       "Name: Sponsor, dtype: int64"
      ]
     },
     "execution_count": 61,
     "metadata": {},
     "output_type": "execute_result"
    }
   ],
   "source": [
    "clinic[~clinic['Sponsor'].isin(pharma['Parent_Company'])]['Sponsor'].value_counts().head(10)"
   ]
  },
  {
   "cell_type": "code",
   "execution_count": 62,
   "id": "1fc1de55",
   "metadata": {},
   "outputs": [],
   "source": [
    "data = clinic['Completion'].str.split(\" \", expand=True)"
   ]
  },
  {
   "cell_type": "code",
   "execution_count": 63,
   "id": "df24be59",
   "metadata": {},
   "outputs": [],
   "source": [
    "data.columns = [\"Month\", \"Year\"]"
   ]
  },
  {
   "cell_type": "code",
   "execution_count": 64,
   "id": "3cf54300",
   "metadata": {},
   "outputs": [
    {
     "data": {
      "text/plain": [
       "array(['Nov', 'Jul', 'Jan', 'Dec', 'Sep', 'Oct', 'Mar', 'May', 'Jun',\n",
       "       'Apr', nan, 'Feb', 'Aug'], dtype=object)"
      ]
     },
     "execution_count": 64,
     "metadata": {},
     "output_type": "execute_result"
    }
   ],
   "source": [
    "data['Month'].unique()"
   ]
  },
  {
   "cell_type": "code",
   "execution_count": 67,
   "id": "c63c8ab1",
   "metadata": {},
   "outputs": [],
   "source": [
    "mnt = [\"Jan\", \"Feb\", \"Mar\", \"Apr\", \"May\", \"Jun\", \"Jul\", \"Aug\", \"Sep\", \"Oct\", \"Nov\", \"Dec\"]"
   ]
  },
  {
   "cell_type": "markdown",
   "id": "c5634c5d",
   "metadata": {},
   "source": [
    "### Question 6\n",
    "\n",
    "    done"
   ]
  },
  {
   "cell_type": "code",
   "execution_count": 75,
   "id": "b40910a6",
   "metadata": {},
   "outputs": [
    {
     "data": {
      "text/html": [
       "<div>\n",
       "<style scoped>\n",
       "    .dataframe tbody tr th:only-of-type {\n",
       "        vertical-align: middle;\n",
       "    }\n",
       "\n",
       "    .dataframe tbody tr th {\n",
       "        vertical-align: top;\n",
       "    }\n",
       "\n",
       "    .dataframe thead th {\n",
       "        text-align: right;\n",
       "    }\n",
       "</style>\n",
       "<table border=\"1\" class=\"dataframe\">\n",
       "  <thead>\n",
       "    <tr style=\"text-align: right;\">\n",
       "      <th></th>\n",
       "      <th>Year</th>\n",
       "    </tr>\n",
       "    <tr>\n",
       "      <th>Month</th>\n",
       "      <th></th>\n",
       "    </tr>\n",
       "  </thead>\n",
       "  <tbody>\n",
       "    <tr>\n",
       "      <th>Jan</th>\n",
       "      <td>1544</td>\n",
       "    </tr>\n",
       "    <tr>\n",
       "      <th>Feb</th>\n",
       "      <td>1286</td>\n",
       "    </tr>\n",
       "    <tr>\n",
       "      <th>Mar</th>\n",
       "      <td>1740</td>\n",
       "    </tr>\n",
       "    <tr>\n",
       "      <th>Apr</th>\n",
       "      <td>1080</td>\n",
       "    </tr>\n",
       "    <tr>\n",
       "      <th>May</th>\n",
       "      <td>1176</td>\n",
       "    </tr>\n",
       "    <tr>\n",
       "      <th>Jun</th>\n",
       "      <td>1424</td>\n",
       "    </tr>\n",
       "    <tr>\n",
       "      <th>Jul</th>\n",
       "      <td>1237</td>\n",
       "    </tr>\n",
       "    <tr>\n",
       "      <th>Aug</th>\n",
       "      <td>1126</td>\n",
       "    </tr>\n",
       "    <tr>\n",
       "      <th>Sep</th>\n",
       "      <td>1167</td>\n",
       "    </tr>\n",
       "    <tr>\n",
       "      <th>Oct</th>\n",
       "      <td>1176</td>\n",
       "    </tr>\n",
       "    <tr>\n",
       "      <th>Nov</th>\n",
       "      <td>1078</td>\n",
       "    </tr>\n",
       "    <tr>\n",
       "      <th>Dec</th>\n",
       "      <td>2084</td>\n",
       "    </tr>\n",
       "  </tbody>\n",
       "</table>\n",
       "</div>"
      ],
      "text/plain": [
       "       Year\n",
       "Month      \n",
       "Jan    1544\n",
       "Feb    1286\n",
       "Mar    1740\n",
       "Apr    1080\n",
       "May    1176\n",
       "Jun    1424\n",
       "Jul    1237\n",
       "Aug    1126\n",
       "Sep    1167\n",
       "Oct    1176\n",
       "Nov    1078\n",
       "Dec    2084"
      ]
     },
     "execution_count": 75,
     "metadata": {},
     "output_type": "execute_result"
    }
   ],
   "source": [
    "data[(data['Year'] == '2020')&(clinic['Status']==\"Completed\")].groupby('Month').count().loc[mnt]"
   ]
  },
  {
   "cell_type": "code",
   "execution_count": 73,
   "id": "71415caa",
   "metadata": {},
   "outputs": [
    {
     "data": {
      "text/html": [
       "<div>\n",
       "<style scoped>\n",
       "    .dataframe tbody tr th:only-of-type {\n",
       "        vertical-align: middle;\n",
       "    }\n",
       "\n",
       "    .dataframe tbody tr th {\n",
       "        vertical-align: top;\n",
       "    }\n",
       "\n",
       "    .dataframe thead th {\n",
       "        text-align: right;\n",
       "    }\n",
       "</style>\n",
       "<table border=\"1\" class=\"dataframe\">\n",
       "  <thead>\n",
       "    <tr style=\"text-align: right;\">\n",
       "      <th></th>\n",
       "      <th>Id</th>\n",
       "      <th>Sponsor</th>\n",
       "      <th>Status</th>\n",
       "      <th>Start</th>\n",
       "      <th>Completion</th>\n",
       "      <th>Type</th>\n",
       "      <th>Submission</th>\n",
       "      <th>Conditions</th>\n",
       "      <th>Interventions</th>\n",
       "    </tr>\n",
       "  </thead>\n",
       "  <tbody>\n",
       "    <tr>\n",
       "      <th>0</th>\n",
       "      <td>NCT02758028</td>\n",
       "      <td>The University of Hong Kong</td>\n",
       "      <td>Recruiting</td>\n",
       "      <td>Aug 2005</td>\n",
       "      <td>Nov 2021</td>\n",
       "      <td>Interventional</td>\n",
       "      <td>Apr 2016</td>\n",
       "      <td>NaN</td>\n",
       "      <td>NaN</td>\n",
       "    </tr>\n",
       "    <tr>\n",
       "      <th>1</th>\n",
       "      <td>NCT02751957</td>\n",
       "      <td>Duke University</td>\n",
       "      <td>Completed</td>\n",
       "      <td>Jul 2016</td>\n",
       "      <td>Jul 2020</td>\n",
       "      <td>Interventional</td>\n",
       "      <td>Apr 2016</td>\n",
       "      <td>Autistic Disorder,Autism Spectrum Disorder</td>\n",
       "      <td>NaN</td>\n",
       "    </tr>\n",
       "    <tr>\n",
       "      <th>2</th>\n",
       "      <td>NCT02758483</td>\n",
       "      <td>Universidade Federal do Rio de Janeiro</td>\n",
       "      <td>Completed</td>\n",
       "      <td>Mar 2017</td>\n",
       "      <td>Jan 2018</td>\n",
       "      <td>Interventional</td>\n",
       "      <td>Apr 2016</td>\n",
       "      <td>Diabetes Mellitus</td>\n",
       "      <td>NaN</td>\n",
       "    </tr>\n",
       "    <tr>\n",
       "      <th>3</th>\n",
       "      <td>NCT02759848</td>\n",
       "      <td>Istanbul Medeniyet University</td>\n",
       "      <td>Completed</td>\n",
       "      <td>Jan 2012</td>\n",
       "      <td>Dec 2014</td>\n",
       "      <td>Observational</td>\n",
       "      <td>May 2016</td>\n",
       "      <td>Tuberculosis,Lung Diseases,Pulmonary Disease</td>\n",
       "      <td>NaN</td>\n",
       "    </tr>\n",
       "    <tr>\n",
       "      <th>4</th>\n",
       "      <td>NCT02758860</td>\n",
       "      <td>University of Roma La Sapienza</td>\n",
       "      <td>Active, not recruiting</td>\n",
       "      <td>Jun 2016</td>\n",
       "      <td>Sep 2020</td>\n",
       "      <td>Observational [Patient Registry]</td>\n",
       "      <td>Apr 2016</td>\n",
       "      <td>Diverticular Diseases,Diverticulum,Diverticulosis</td>\n",
       "      <td>NaN</td>\n",
       "    </tr>\n",
       "  </tbody>\n",
       "</table>\n",
       "</div>"
      ],
      "text/plain": [
       "            Id                                 Sponsor  \\\n",
       "0  NCT02758028             The University of Hong Kong   \n",
       "1  NCT02751957                         Duke University   \n",
       "2  NCT02758483  Universidade Federal do Rio de Janeiro   \n",
       "3  NCT02759848           Istanbul Medeniyet University   \n",
       "4  NCT02758860          University of Roma La Sapienza   \n",
       "\n",
       "                   Status     Start Completion  \\\n",
       "0              Recruiting  Aug 2005   Nov 2021   \n",
       "1               Completed  Jul 2016   Jul 2020   \n",
       "2               Completed  Mar 2017   Jan 2018   \n",
       "3               Completed  Jan 2012   Dec 2014   \n",
       "4  Active, not recruiting  Jun 2016   Sep 2020   \n",
       "\n",
       "                               Type Submission  \\\n",
       "0                    Interventional   Apr 2016   \n",
       "1                    Interventional   Apr 2016   \n",
       "2                    Interventional   Apr 2016   \n",
       "3                     Observational   May 2016   \n",
       "4  Observational [Patient Registry]   Apr 2016   \n",
       "\n",
       "                                          Conditions Interventions  \n",
       "0                                                NaN           NaN  \n",
       "1         Autistic Disorder,Autism Spectrum Disorder           NaN  \n",
       "2                                  Diabetes Mellitus           NaN  \n",
       "3       Tuberculosis,Lung Diseases,Pulmonary Disease           NaN  \n",
       "4  Diverticular Diseases,Diverticulum,Diverticulosis           NaN  "
      ]
     },
     "execution_count": 73,
     "metadata": {},
     "output_type": "execute_result"
    }
   ],
   "source": [
    "clinic.head()"
   ]
  },
  {
   "cell_type": "code",
   "execution_count": null,
   "id": "f1b34d6f",
   "metadata": {},
   "outputs": [],
   "source": []
  }
 ],
 "metadata": {
  "kernelspec": {
   "display_name": "Python 3 (ipykernel)",
   "language": "python",
   "name": "python3"
  },
  "language_info": {
   "codemirror_mode": {
    "name": "ipython",
    "version": 3
   },
   "file_extension": ".py",
   "mimetype": "text/x-python",
   "name": "python",
   "nbconvert_exporter": "python",
   "pygments_lexer": "ipython3",
   "version": "3.9.7"
  }
 },
 "nbformat": 4,
 "nbformat_minor": 5
}
